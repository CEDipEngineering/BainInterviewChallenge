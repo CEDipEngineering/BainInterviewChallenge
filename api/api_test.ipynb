{
 "cells": [
  {
   "cell_type": "markdown",
   "metadata": {},
   "source": [
    "# Simple api test script\n",
    "The idea is to simply make requests to check functionalities."
   ]
  },
  {
   "cell_type": "code",
   "execution_count": 1,
   "metadata": {},
   "outputs": [],
   "source": [
    "import requests\n",
    "from model.data import load_data\n",
    "\n",
    "train, test = load_data()"
   ]
  },
  {
   "cell_type": "markdown",
   "metadata": {},
   "source": [
    "Basic prediction route post request"
   ]
  },
  {
   "cell_type": "code",
   "execution_count": 2,
   "metadata": {},
   "outputs": [
    {
     "name": "stdout",
     "output_type": "stream",
     "text": [
      "Sending:  {'type': 'departamento', 'sector': 'vitacura', 'net_usable_area': 140.0, 'net_area': 170.0, 'n_rooms': 4.0, 'n_bathroom': 4.0, 'latitude': -33.40123, 'longitude': -70.58055999999998, 'price': 11900}\n",
      "401 b'{\"detail\":\"Invalid or missing API Key\"}'\n"
     ]
    }
   ],
   "source": [
    "example = train.loc[0]\n",
    "payload = example.to_dict()\n",
    "print(\"Sending: \", payload)\n",
    "resp = requests.post(\"http://localhost:8000/predict\", json=payload, headers={\"X-API-Key\": \"WRONGKEY\"})\n",
    "# print(resp.headers, resp.content)\n",
    "if resp.status_code == 200: # Will probably never happen, unless uuid somehow generates WRONGKEY, which I'm pretty sure is impossible\n",
    "    print(\"For the given input data the predicted price is {:.2f}, compared to the real value of {:.2f}\".format(float(resp.content), payload[\"price\"]))\n",
    "else: # Should get 401, Forbidden\n",
    "    print(resp.status_code, str(resp.content))"
   ]
  },
  {
   "cell_type": "code",
   "execution_count": 3,
   "metadata": {},
   "outputs": [
    {
     "name": "stdout",
     "output_type": "stream",
     "text": [
      "Sending:  {'type': 'departamento', 'sector': 'vitacura', 'net_usable_area': 140.0, 'net_area': 170.0, 'n_rooms': 4.0, 'n_bathroom': 4.0, 'latitude': -33.40123, 'longitude': -70.58055999999998, 'price': 11900}\n",
      "For the given input data the predicted price is 13070.58, compared to the real value of 11900.00\n"
     ]
    }
   ],
   "source": [
    "print(\"Sending: \", payload)\n",
    "resp = requests.post(\"http://localhost:8000/predict\", json=payload, headers={\"X-API-Key\": \"b4beedad-7aa5-4605-8ca1-e3a96807a978\"})\n",
    "# print(resp.headers, resp.content)\n",
    "print(\"For the given input data the predicted price is {:.2f}, compared to the real value of {:.2f}\".format(float(resp.content), payload[\"price\"]))"
   ]
  }
 ],
 "metadata": {
  "kernelspec": {
   "display_name": "RE_Chile_env",
   "language": "python",
   "name": "python3"
  },
  "language_info": {
   "codemirror_mode": {
    "name": "ipython",
    "version": 3
   },
   "file_extension": ".py",
   "mimetype": "text/x-python",
   "name": "python",
   "nbconvert_exporter": "python",
   "pygments_lexer": "ipython3",
   "version": "3.8.10"
  }
 },
 "nbformat": 4,
 "nbformat_minor": 2
}
